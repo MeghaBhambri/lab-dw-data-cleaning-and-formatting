{
 "cells": [
  {
   "cell_type": "markdown",
   "id": "1dc9656c",
   "metadata": {},
   "source": [
    "Put all the data cleaning and formatting steps into functions, and create a main function that performs all the cleaning and formatting.\n",
    "\n",
    "Write these functions in a separate .py file(s). By putting these steps into functions, we can make the code more modular and easier to maintain."
   ]
  },
  {
   "cell_type": "code",
   "execution_count": 1,
   "id": "92d51ab0",
   "metadata": {},
   "outputs": [],
   "source": [
    "import numpy as np\n",
    "import pandas as pd\n",
    "from pandas import DataFrame\n",
    "import clean_data as cd\n",
    "\n",
    "def main_function(df:str)->DataFrame:\n",
    "    df1 = pd.read_csv(df)\n",
    "    df1=cd.change_col_names_to_lower_case(df1) \n",
    "    df1=cd.replace_white_spaces_in_col_names(df1)\n",
    "    df1=cd.rename_col_names(df1,{'customer':'id', 'st':'state'})\n",
    "    df1 =cd.clean_column_by_mapping(df1)\n",
    "    string_operations = {\n",
    "    'customer-lifetime-value': cd.strip_percentage,\n",
    "    'vehicle-class': cd.map_vehicle_class,}\n",
    " # Add more columns and their string operations as needed}\n",
    "\n",
    "    df1 = cd.clean_column_by_string_operation(df1,string_operations)\n",
    "    df1 = cd.handle_missing_values(\n",
    "    df1,\n",
    "    numerical_columns1_mean=['customer-lifetime-value', 'income', 'monthly-premium-auto', 'number-of-open-complaints', 'total-claim-amount'],\n",
    "    numerical_columns2_median=['income'],\n",
    "    categorical_columns_mode=['state', 'gender', 'education', 'customer-lifetime-value',\"policy-type\",\"vehicle-class\"])\n",
    "    df1 =cd.duplicate_rows(df1,subset_columns = ['id','income','customer-lifetime-value','monthly-premium-auto','number-of-open-complaints'])\n",
    "    return df1   "
   ]
  },
  {
   "cell_type": "code",
   "execution_count": 2,
   "id": "a75f3bb5",
   "metadata": {},
   "outputs": [
    {
     "ename": "NameError",
     "evalue": "name 'changes' is not defined",
     "output_type": "error",
     "traceback": [
      "\u001b[1;31m---------------------------------------------------------------------------\u001b[0m",
      "\u001b[1;31mNameError\u001b[0m                                 Traceback (most recent call last)",
      "Cell \u001b[1;32mIn[2], line 1\u001b[0m\n\u001b[1;32m----> 1\u001b[0m df1\u001b[38;5;241m=\u001b[39m\u001b[43mmain_function\u001b[49m\u001b[43m(\u001b[49m\u001b[38;5;124;43m'\u001b[39;49m\u001b[38;5;124;43mhttps://raw.githubusercontent.com/data-bootcamp-v4/data/main/file1.csv\u001b[39;49m\u001b[38;5;124;43m'\u001b[39;49m\u001b[43m)\u001b[49m\n\u001b[0;32m      2\u001b[0m display(df1\u001b[38;5;241m.\u001b[39mtail(\u001b[38;5;241m25\u001b[39m))\n",
      "Cell \u001b[1;32mIn[1], line 17\u001b[0m, in \u001b[0;36mmain_function\u001b[1;34m(df)\u001b[0m\n\u001b[0;32m     12\u001b[0m    string_operations \u001b[38;5;241m=\u001b[39m {\n\u001b[0;32m     13\u001b[0m    \u001b[38;5;124m'\u001b[39m\u001b[38;5;124mcustomer-lifetime-value\u001b[39m\u001b[38;5;124m'\u001b[39m: cd\u001b[38;5;241m.\u001b[39mstrip_percentage,\n\u001b[0;32m     14\u001b[0m    \u001b[38;5;124m'\u001b[39m\u001b[38;5;124mvehicle-class\u001b[39m\u001b[38;5;124m'\u001b[39m: cd\u001b[38;5;241m.\u001b[39mmap_vehicle_class,}\n\u001b[0;32m     15\u001b[0m \u001b[38;5;66;03m# Add more columns and their string operations as needed}\u001b[39;00m\n\u001b[1;32m---> 17\u001b[0m    df1 \u001b[38;5;241m=\u001b[39m cd\u001b[38;5;241m.\u001b[39mclean_column_by_string_operation(df1, \u001b[43mchanges\u001b[49m, string_operations)\n\u001b[0;32m     18\u001b[0m    df1 \u001b[38;5;241m=\u001b[39m cd\u001b[38;5;241m.\u001b[39mhandle_missing_values(\n\u001b[0;32m     19\u001b[0m    df1,\n\u001b[0;32m     20\u001b[0m    numerical_columns1_mean\u001b[38;5;241m=\u001b[39m[\u001b[38;5;124m'\u001b[39m\u001b[38;5;124mcustomer-lifetime-value\u001b[39m\u001b[38;5;124m'\u001b[39m, \u001b[38;5;124m'\u001b[39m\u001b[38;5;124mincome\u001b[39m\u001b[38;5;124m'\u001b[39m, \u001b[38;5;124m'\u001b[39m\u001b[38;5;124mmonthly-premium-auto\u001b[39m\u001b[38;5;124m'\u001b[39m, \u001b[38;5;124m'\u001b[39m\u001b[38;5;124mnumber-of-open-complaints\u001b[39m\u001b[38;5;124m'\u001b[39m, \u001b[38;5;124m'\u001b[39m\u001b[38;5;124mtotal-claim-amount\u001b[39m\u001b[38;5;124m'\u001b[39m],\n\u001b[0;32m     21\u001b[0m    numerical_columns2_median\u001b[38;5;241m=\u001b[39m[\u001b[38;5;124m'\u001b[39m\u001b[38;5;124mincome\u001b[39m\u001b[38;5;124m'\u001b[39m],\n\u001b[0;32m     22\u001b[0m    categorical_columns_mode\u001b[38;5;241m=\u001b[39m[\u001b[38;5;124m'\u001b[39m\u001b[38;5;124mstate\u001b[39m\u001b[38;5;124m'\u001b[39m, \u001b[38;5;124m'\u001b[39m\u001b[38;5;124mgender\u001b[39m\u001b[38;5;124m'\u001b[39m, \u001b[38;5;124m'\u001b[39m\u001b[38;5;124meducation\u001b[39m\u001b[38;5;124m'\u001b[39m, \u001b[38;5;124m'\u001b[39m\u001b[38;5;124mcustomer-lifetime-value\u001b[39m\u001b[38;5;124m'\u001b[39m,\u001b[38;5;124m\"\u001b[39m\u001b[38;5;124mpolicy-type\u001b[39m\u001b[38;5;124m\"\u001b[39m,\u001b[38;5;124m\"\u001b[39m\u001b[38;5;124mvehicle-class\u001b[39m\u001b[38;5;124m\"\u001b[39m])\n\u001b[0;32m     23\u001b[0m    df1 \u001b[38;5;241m=\u001b[39mcd\u001b[38;5;241m.\u001b[39mduplicate_rows(df1,subset_columns \u001b[38;5;241m=\u001b[39m [\u001b[38;5;124m'\u001b[39m\u001b[38;5;124mid\u001b[39m\u001b[38;5;124m'\u001b[39m,\u001b[38;5;124m'\u001b[39m\u001b[38;5;124mincome\u001b[39m\u001b[38;5;124m'\u001b[39m,\u001b[38;5;124m'\u001b[39m\u001b[38;5;124mcustomer-lifetime-value\u001b[39m\u001b[38;5;124m'\u001b[39m,\u001b[38;5;124m'\u001b[39m\u001b[38;5;124mmonthly-premium-auto\u001b[39m\u001b[38;5;124m'\u001b[39m,\u001b[38;5;124m'\u001b[39m\u001b[38;5;124mnumber-of-open-complaints\u001b[39m\u001b[38;5;124m'\u001b[39m])\n",
      "\u001b[1;31mNameError\u001b[0m: name 'changes' is not defined"
     ]
    }
   ],
   "source": [
    "df1=main_function('https://raw.githubusercontent.com/data-bootcamp-v4/data/main/file1.csv')\n",
    "display(df1.tail(25))"
   ]
  },
  {
   "cell_type": "code",
   "execution_count": null,
   "id": "de458b85",
   "metadata": {},
   "outputs": [],
   "source": []
  },
  {
   "cell_type": "code",
   "execution_count": null,
   "id": "82af2f84",
   "metadata": {},
   "outputs": [],
   "source": []
  }
 ],
 "metadata": {
  "kernelspec": {
   "display_name": "Python 3 (ipykernel)",
   "language": "python",
   "name": "python3"
  },
  "language_info": {
   "codemirror_mode": {
    "name": "ipython",
    "version": 3
   },
   "file_extension": ".py",
   "mimetype": "text/x-python",
   "name": "python",
   "nbconvert_exporter": "python",
   "pygments_lexer": "ipython3",
   "version": "3.10.9"
  }
 },
 "nbformat": 4,
 "nbformat_minor": 5
}
